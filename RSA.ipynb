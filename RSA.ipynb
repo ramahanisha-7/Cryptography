{
  "nbformat": 4,
  "nbformat_minor": 0,
  "metadata": {
    "colab": {
      "name": "RSA.ipynb",
      "provenance": []
    },
    "kernelspec": {
      "name": "python3",
      "display_name": "Python 3"
    },
    "language_info": {
      "name": "python"
    }
  },
  "cells": [
    {
      "cell_type": "code",
      "metadata": {
        "colab": {
          "base_uri": "https://localhost:8080/",
          "height": 443
        },
        "id": "mZeT0RyMDfM4",
        "outputId": "cbb1b8c9-a689-41db-abbe-7be7d1f23f60"
      },
      "source": [
        "import math\n",
        "\n",
        "def encrypt(public_key,text):\n",
        "    e,n=public_key\n",
        "    x=[]\n",
        "    m=0\n",
        "    for i in text:\n",
        "        if(i.isupper()):\n",
        "            m = ord(i)-65\n",
        "            c=(m**e)%n\n",
        "            x.append(c)\n",
        "        elif(i.islower()):               \n",
        "            m= ord(i)-97\n",
        "            c=(m**e)%n\n",
        "            x.append(c)\n",
        "        elif(i.isspace()):\n",
        "            spc=400\n",
        "            x.append(400)\n",
        "    return x\n",
        "\n",
        "def decrypt(private_key,text):\n",
        "    d,n=public_key\n",
        "    txt=text.split(',')\n",
        "    x=''\n",
        "    m=0\n",
        "    for i in txt:\n",
        "        if(i=='400'):\n",
        "            x+=' '\n",
        "        else:\n",
        "            m=(int(i)**d)%n\n",
        "            m+=65\n",
        "            c=chr(m)\n",
        "            x+=c\n",
        "    return x\n",
        "\n",
        "\n",
        "def prime(a):\n",
        "    if(a==2):\n",
        "        return True\n",
        "    elif((a<2) or ((a%2)==0)):\n",
        "        return False\n",
        "    elif(a>2):\n",
        "        for i in range(2,a):\n",
        "            if not(a%i):\n",
        "                return false\n",
        "    return True\n",
        "\n",
        "def eea(a,b):\n",
        "  if(a%b==0):\n",
        "      return(b,0,1)\n",
        "  else:\n",
        "      gcd,s,t = eea(b,a%b)\n",
        "      s = s-((a//b) * t)\n",
        "      print(\"%d = %d*(%d) + (%d)*(%d)\"%(gcd,a,t,s,b))\n",
        "      return(gcd,t,s)\n",
        "\n",
        "def mult_inv(e,r):\n",
        "    gcd,s,_=eea(e,r)\n",
        "    if(gcd!=1):\n",
        "        return None\n",
        "    else:\n",
        "        if(s<0):\n",
        "            print(\"s=%d. Since %d is less than 0, s = s(modr), i.e., s=%d.\"%(s,s,s%r))\n",
        "        elif(s>0):\n",
        "            print(\"s=%d.\"%(s))\n",
        "        return s%r\n",
        "\n",
        "def egcd(e,phi):\n",
        "    while(phi!=0):\n",
        "        e,phi=phi,e%phi\n",
        "    return e\n",
        "\n",
        "def findCoprime(phi):\n",
        "  for i in range(1,1000):\n",
        "    if(egcd(i,phi)==1):\n",
        "        e=i\n",
        "  print(\"The value of e is:\",e)\n",
        "\n",
        "\n",
        "message = input(\"Message: \")\n",
        "x = int(input(\"x = \"))\n",
        "y = int(input(\"y = \"))\n",
        "\n",
        "prime_x = prime(x)\n",
        "primt_y = prime(y)\n",
        "\n",
        "while(((prime_x==False)or(prime_x==False))):\n",
        "    x = int(input(\"x = \"))\n",
        "    y = int(input(\"y = \"))\n",
        "    check_x = prime(x)\n",
        "    check_y = prime(y)\n",
        "\n",
        "n = x * y\n",
        "\n",
        "phi = (x-1) * (y-1)\n",
        "\n",
        "e = findCoprime(phi)\n",
        "d = mult_inv(e,phi)\n",
        "public_key = e\n",
        "private_key = d\n",
        "\n",
        "choose = input(\"Type '1' for encryption and '2' for decrytion: \")\n",
        "if(choose=='1'):\n",
        "    enc_msg=encrypt(public,message)\n",
        "    print(\"Your encrypted message is:\",enc_msg)\n",
        "elif(choose=='2'):\n",
        "    print(\"Your decrypted message is:\",decrypt(private,message))\n",
        "else:\n",
        "    print(\"You entered the wrong option.\")\n",
        "\n"
      ],
      "execution_count": null,
      "outputs": [
        {
          "output_type": "stream",
          "name": "stdout",
          "text": [
            "Message: hi\n",
            "x = 7\n",
            "y = 5\n",
            "The value of e is: 997\n"
          ]
        },
        {
          "output_type": "error",
          "ename": "TypeError",
          "evalue": "ignored",
          "traceback": [
            "\u001b[0;31m---------------------------------------------------------------------------\u001b[0m",
            "\u001b[0;31mTypeError\u001b[0m                                 Traceback (most recent call last)",
            "\u001b[0;32m<ipython-input-13-b245347f0587>\u001b[0m in \u001b[0;36m<module>\u001b[0;34m()\u001b[0m\n\u001b[1;32m     96\u001b[0m \u001b[0;34m\u001b[0m\u001b[0m\n\u001b[1;32m     97\u001b[0m \u001b[0me\u001b[0m \u001b[0;34m=\u001b[0m \u001b[0mfindCoprime\u001b[0m\u001b[0;34m(\u001b[0m\u001b[0mphi\u001b[0m\u001b[0;34m)\u001b[0m\u001b[0;34m\u001b[0m\u001b[0;34m\u001b[0m\u001b[0m\n\u001b[0;32m---> 98\u001b[0;31m \u001b[0md\u001b[0m \u001b[0;34m=\u001b[0m \u001b[0mmult_inv\u001b[0m\u001b[0;34m(\u001b[0m\u001b[0me\u001b[0m\u001b[0;34m,\u001b[0m\u001b[0mphi\u001b[0m\u001b[0;34m)\u001b[0m\u001b[0;34m\u001b[0m\u001b[0;34m\u001b[0m\u001b[0m\n\u001b[0m\u001b[1;32m     99\u001b[0m \u001b[0mpublic_key\u001b[0m \u001b[0;34m=\u001b[0m \u001b[0me\u001b[0m\u001b[0;34m\u001b[0m\u001b[0;34m\u001b[0m\u001b[0m\n\u001b[1;32m    100\u001b[0m \u001b[0mprivate_key\u001b[0m \u001b[0;34m=\u001b[0m \u001b[0md\u001b[0m\u001b[0;34m\u001b[0m\u001b[0;34m\u001b[0m\u001b[0m\n",
            "\u001b[0;32m<ipython-input-13-b245347f0587>\u001b[0m in \u001b[0;36mmult_inv\u001b[0;34m(e, r)\u001b[0m\n\u001b[1;32m     56\u001b[0m \u001b[0;34m\u001b[0m\u001b[0m\n\u001b[1;32m     57\u001b[0m \u001b[0;32mdef\u001b[0m \u001b[0mmult_inv\u001b[0m\u001b[0;34m(\u001b[0m\u001b[0me\u001b[0m\u001b[0;34m,\u001b[0m\u001b[0mr\u001b[0m\u001b[0;34m)\u001b[0m\u001b[0;34m:\u001b[0m\u001b[0;34m\u001b[0m\u001b[0;34m\u001b[0m\u001b[0m\n\u001b[0;32m---> 58\u001b[0;31m     \u001b[0mgcd\u001b[0m\u001b[0;34m,\u001b[0m\u001b[0ms\u001b[0m\u001b[0;34m,\u001b[0m\u001b[0m_\u001b[0m\u001b[0;34m=\u001b[0m\u001b[0meea\u001b[0m\u001b[0;34m(\u001b[0m\u001b[0me\u001b[0m\u001b[0;34m,\u001b[0m\u001b[0mr\u001b[0m\u001b[0;34m)\u001b[0m\u001b[0;34m\u001b[0m\u001b[0;34m\u001b[0m\u001b[0m\n\u001b[0m\u001b[1;32m     59\u001b[0m     \u001b[0;32mif\u001b[0m\u001b[0;34m(\u001b[0m\u001b[0mgcd\u001b[0m\u001b[0;34m!=\u001b[0m\u001b[0;36m1\u001b[0m\u001b[0;34m)\u001b[0m\u001b[0;34m:\u001b[0m\u001b[0;34m\u001b[0m\u001b[0;34m\u001b[0m\u001b[0m\n\u001b[1;32m     60\u001b[0m         \u001b[0;32mreturn\u001b[0m \u001b[0;32mNone\u001b[0m\u001b[0;34m\u001b[0m\u001b[0;34m\u001b[0m\u001b[0m\n",
            "\u001b[0;32m<ipython-input-13-b245347f0587>\u001b[0m in \u001b[0;36meea\u001b[0;34m(a, b)\u001b[0m\n\u001b[1;32m     47\u001b[0m \u001b[0;34m\u001b[0m\u001b[0m\n\u001b[1;32m     48\u001b[0m \u001b[0;32mdef\u001b[0m \u001b[0meea\u001b[0m\u001b[0;34m(\u001b[0m\u001b[0ma\u001b[0m\u001b[0;34m,\u001b[0m\u001b[0mb\u001b[0m\u001b[0;34m)\u001b[0m\u001b[0;34m:\u001b[0m\u001b[0;34m\u001b[0m\u001b[0;34m\u001b[0m\u001b[0m\n\u001b[0;32m---> 49\u001b[0;31m   \u001b[0;32mif\u001b[0m\u001b[0;34m(\u001b[0m\u001b[0ma\u001b[0m\u001b[0;34m%\u001b[0m\u001b[0mb\u001b[0m\u001b[0;34m==\u001b[0m\u001b[0;36m0\u001b[0m\u001b[0;34m)\u001b[0m\u001b[0;34m:\u001b[0m\u001b[0;34m\u001b[0m\u001b[0;34m\u001b[0m\u001b[0m\n\u001b[0m\u001b[1;32m     50\u001b[0m       \u001b[0;32mreturn\u001b[0m\u001b[0;34m(\u001b[0m\u001b[0mb\u001b[0m\u001b[0;34m,\u001b[0m\u001b[0;36m0\u001b[0m\u001b[0;34m,\u001b[0m\u001b[0;36m1\u001b[0m\u001b[0;34m)\u001b[0m\u001b[0;34m\u001b[0m\u001b[0;34m\u001b[0m\u001b[0m\n\u001b[1;32m     51\u001b[0m   \u001b[0;32melse\u001b[0m\u001b[0;34m:\u001b[0m\u001b[0;34m\u001b[0m\u001b[0;34m\u001b[0m\u001b[0m\n",
            "\u001b[0;31mTypeError\u001b[0m: unsupported operand type(s) for %: 'NoneType' and 'int'"
          ]
        }
      ]
    },
    {
      "cell_type": "code",
      "metadata": {
        "id": "sp2bnqICTg-Y"
      },
      "source": [
        ""
      ],
      "execution_count": null,
      "outputs": []
    }
  ]
}