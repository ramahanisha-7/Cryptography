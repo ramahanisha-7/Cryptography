{
  "nbformat": 4,
  "nbformat_minor": 0,
  "metadata": {
    "colab": {
      "name": "NewtonRaphson.ipynb",
      "provenance": [],
      "collapsed_sections": []
    },
    "kernelspec": {
      "name": "python3",
      "display_name": "Python 3"
    },
    "language_info": {
      "name": "python"
    }
  },
  "cells": [
    {
      "cell_type": "code",
      "metadata": {
        "id": "mrc17Ccs0qn3",
        "colab": {
          "base_uri": "https://localhost:8080/"
        },
        "outputId": "a4a1625b-b8d9-43c0-d1f0-c4460744d9c4"
      },
      "source": [
        "# Implementation of Newton Raphson Method for solving equations using Python\n",
        "# The function is 0.01 * ((x-0.1))^ 2 - (3.5)\n",
        "# Its derivative is 0.02 * (x-0.002)\n",
        "\n",
        "def func( x ):\n",
        "\treturn 0.01*((x-0.1))**2-(3.5)\n",
        "\n",
        "# Derivative of the above function\n",
        "# which is 0.02 * (x-0.002)\n",
        "def derivFunc( x ):\n",
        "\treturn 0.02*(x-0.002)\n",
        "\n",
        "# Function to find the root\n",
        "def newtonRaphson( x ):\n",
        "\th = func(x) / derivFunc(x)\n",
        "\twhile abs(h) >= 0.0001:\n",
        "\t\th = func(x)/derivFunc(x)\n",
        "\t\t\n",
        "\t\t# x(i+1) = x(i) - f(x) / f'(x)\n",
        "\t\tx = x - h\n",
        "\tprint(\"The value of the root is : \", \"%.4f\"% x) \n",
        "\treturn x\n",
        "\n",
        "# Initial values to be assumed (height of the supporting tower)\n",
        "x0=int(input(\"Enter the height of the supporting tower \"))\n",
        "a = newtonRaphson(x0)\n",
        "b = newtonRaphson(-x0)\n",
        "print(\"error distance to be corrected is:\", abs(a)+abs(b))"
      ],
      "execution_count": null,
      "outputs": [
        {
          "output_type": "stream",
          "text": [
            "Enter the height of the supporting tower 200\n",
            "The value of the root is :  18.8083\n",
            "error distance to be corrected is: 37.61657391386667\n"
          ],
          "name": "stdout"
        }
      ]
    }
  ]
}